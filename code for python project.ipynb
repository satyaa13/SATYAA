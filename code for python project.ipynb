{
 "cells": [
  {
   "cell_type": "code",
   "execution_count": 11,
   "id": "65810831-6ffd-44c2-8552-daaed0991e15",
   "metadata": {},
   "outputs": [
    {
     "name": "stdout",
     "output_type": "stream",
     "text": [
      "Welcome to the Three-Level Password System.\n",
      "\n"
     ]
    },
    {
     "name": "stdin",
     "output_type": "stream",
     "text": [
      "Enter the password for Level 1:  sanjivani@123\n"
     ]
    },
    {
     "name": "stdout",
     "output_type": "stream",
     "text": [
      "Level 1 Authentication Successful!\n",
      "\n"
     ]
    },
    {
     "name": "stdin",
     "output_type": "stream",
     "text": [
      "Enter the password for Level 2:  sanjivani@456\n"
     ]
    },
    {
     "name": "stdout",
     "output_type": "stream",
     "text": [
      "Level 2 Authentication Successful!\n",
      "\n"
     ]
    },
    {
     "name": "stdin",
     "output_type": "stream",
     "text": [
      "Enter the password for Level 3:  sanjivani@789\n"
     ]
    },
    {
     "name": "stdout",
     "output_type": "stream",
     "text": [
      "Level 3 Authentication Successful! Access Granted.\n",
      "\n",
      "Congratulations! You've successfully passed all three levels.\n"
     ]
    }
   ],
   "source": [
    "import time\n",
    "\n",
    "# Function for Level 1 Authentication\n",
    "def level_one():\n",
    "    password_level_1 = \"sanjivani@123\"  # First level password\n",
    "    attempts = 3\n",
    "    while attempts > 0:\n",
    "        entered_password = input(\"Enter the password for Level 1: \")\n",
    "        if entered_password == password_level_1:\n",
    "            print(\"Level 1 Authentication Successful!\\n\")\n",
    "            return True\n",
    "        else:\n",
    "            attempts -= 1\n",
    "            print(f\"Incorrect password. You have {attempts} attempts remaining.\\n\")\n",
    "            time.sleep(1)\n",
    "    print(\"Level 1 Authentication Failed. Exiting.\\n\")\n",
    "    return False\n",
    "\n",
    "# Function for Level 2 Authentication\n",
    "def level_two():\n",
    "    password_level_2 = \"sanjivani@456\"  # Second level password\n",
    "    attempts = 3\n",
    "    while attempts > 0:\n",
    "        entered_password = input(\"Enter the password for Level 2: \")\n",
    "        if entered_password == password_level_2:\n",
    "            print(\"Level 2 Authentication Successful!\\n\")\n",
    "            return True\n",
    "        else:\n",
    "            attempts -= 1\n",
    "            print(f\"Incorrect password. You have {attempts} attempts remaining.\\n\")\n",
    "            time.sleep(1)\n",
    "    print(\"Level 2 Authentication Failed. Exiting.\\n\")\n",
    "    return False\n",
    "\n",
    "# Function for Level 3 Authentication\n",
    "def level_three():\n",
    "    password_level_3 = \"sanjivani@789\"  # Third level password\n",
    "    attempts = 3\n",
    "    while attempts > 0:\n",
    "        entered_password = input(\"Enter the password for Level 3: \")\n",
    "        if entered_password == password_level_3:\n",
    "            print(\"Level 3 Authentication Successful! Access Granted.\\n\")\n",
    "            return True\n",
    "        else:\n",
    "            attempts -= 1\n",
    "            print(f\"Incorrect password. You have {attempts} attempts remaining.\\n\")\n",
    "            time.sleep(1)\n",
    "    print(\"Level 3 Authentication Failed. Exiting.\\n\")\n",
    "    return False\n",
    "\n",
    "# Main function to handle all three levels of authentication\n",
    "def main():\n",
    "    print(\"Welcome to the Three-Level Password System.\\n\")\n",
    "    time.sleep(1)\n",
    "\n",
    "    # First level of authentication\n",
    "    if not level_one():\n",
    "        return  # Exits if Level 1 fails\n",
    "\n",
    "    # Second level of authentication\n",
    "    if not level_two():\n",
    "        return  # Exits if Level 2 fails\n",
    "\n",
    "    # Third level of authentication\n",
    "    if not level_three():\n",
    "        return  # Exits if Level 3 fails\n",
    "\n",
    "    print(\"Congratulations! You've successfully passed all three levels.\")\n",
    "\n",
    "# Run the authentication system\n",
    "if __name__ == \"__main__\":\n",
    "    main()\n"
   ]
  },
  {
   "cell_type": "code",
   "execution_count": null,
   "id": "bea84836-61d1-479b-b2f3-24586139a6ca",
   "metadata": {},
   "outputs": [],
   "source": []
  }
 ],
 "metadata": {
  "kernelspec": {
   "display_name": "Python 3 (ipykernel)",
   "language": "python",
   "name": "python3"
  },
  "language_info": {
   "codemirror_mode": {
    "name": "ipython",
    "version": 3
   },
   "file_extension": ".py",
   "mimetype": "text/x-python",
   "name": "python",
   "nbconvert_exporter": "python",
   "pygments_lexer": "ipython3",
   "version": "3.12.4"
  }
 },
 "nbformat": 4,
 "nbformat_minor": 5
}
